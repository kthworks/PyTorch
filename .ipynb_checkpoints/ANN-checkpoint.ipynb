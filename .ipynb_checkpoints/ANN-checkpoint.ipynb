{
 "cells": [
  {
   "cell_type": "markdown",
   "id": "palestinian-bidding",
   "metadata": {},
   "source": [
    "## XOR problem\n",
    "\n",
    "### 1. Single Perceptron with PyTorch\n"
   ]
  },
  {
   "cell_type": "code",
   "execution_count": 2,
   "id": "loose-atlas",
   "metadata": {
    "scrolled": true
   },
   "outputs": [
    {
     "name": "stdout",
     "output_type": "stream",
     "text": [
      "0 0.7095224857330322\n",
      "100 0.6931524276733398\n",
      "200 0.6931471824645996\n",
      "300 0.6931471824645996\n",
      "400 0.6931471824645996\n",
      "500 0.6931471824645996\n",
      "600 0.6931471824645996\n",
      "700 0.6931471824645996\n",
      "800 0.6931471824645996\n",
      "900 0.6931471824645996\n",
      "1000 0.6931471824645996\n",
      "1100 0.6931471824645996\n",
      "1200 0.6931471824645996\n",
      "1300 0.6931471824645996\n",
      "1400 0.6931471824645996\n",
      "1500 0.6931471824645996\n",
      "1600 0.6931471824645996\n",
      "1700 0.6931471824645996\n",
      "1800 0.6931471824645996\n",
      "1900 0.6931471824645996\n",
      "2000 0.6931471824645996\n",
      "2100 0.6931471824645996\n",
      "2200 0.6931471824645996\n",
      "2300 0.6931471824645996\n",
      "2400 0.6931471824645996\n",
      "2500 0.6931471824645996\n",
      "2600 0.6931471824645996\n",
      "2700 0.6931471824645996\n",
      "2800 0.6931471824645996\n",
      "2900 0.6931471824645996\n",
      "3000 0.6931471824645996\n",
      "3100 0.6931471824645996\n",
      "3200 0.6931471824645996\n",
      "3300 0.6931471824645996\n",
      "3400 0.6931471824645996\n",
      "3500 0.6931471824645996\n",
      "3600 0.6931471824645996\n",
      "3700 0.6931471824645996\n",
      "3800 0.6931471824645996\n",
      "3900 0.6931471824645996\n",
      "4000 0.6931471824645996\n",
      "4100 0.6931471824645996\n",
      "4200 0.6931471824645996\n",
      "4300 0.6931471824645996\n",
      "4400 0.6931471824645996\n",
      "4500 0.6931471824645996\n",
      "4600 0.6931471824645996\n",
      "4700 0.6931471824645996\n",
      "4800 0.6931471824645996\n",
      "4900 0.6931471824645996\n",
      "5000 0.6931471824645996\n",
      "5100 0.6931471824645996\n",
      "5200 0.6931471824645996\n",
      "5300 0.6931471824645996\n",
      "5400 0.6931471824645996\n",
      "5500 0.6931471824645996\n",
      "5600 0.6931471824645996\n",
      "5700 0.6931471824645996\n",
      "5800 0.6931471824645996\n",
      "5900 0.6931471824645996\n",
      "6000 0.6931471824645996\n",
      "6100 0.6931471824645996\n",
      "6200 0.6931471824645996\n",
      "6300 0.6931471824645996\n",
      "6400 0.6931471824645996\n",
      "6500 0.6931471824645996\n",
      "6600 0.6931471824645996\n",
      "6700 0.6931471824645996\n",
      "6800 0.6931471824645996\n",
      "6900 0.6931471824645996\n",
      "7000 0.6931471824645996\n",
      "7100 0.6931471824645996\n",
      "7200 0.6931471824645996\n",
      "7300 0.6931471824645996\n",
      "7400 0.6931471824645996\n",
      "7500 0.6931471824645996\n",
      "7600 0.6931471824645996\n",
      "7700 0.6931471824645996\n",
      "7800 0.6931471824645996\n",
      "7900 0.6931471824645996\n",
      "8000 0.6931471824645996\n",
      "8100 0.6931471824645996\n",
      "8200 0.6931471824645996\n",
      "8300 0.6931471824645996\n",
      "8400 0.6931471824645996\n",
      "8500 0.6931471824645996\n",
      "8600 0.6931471824645996\n",
      "8700 0.6931471824645996\n",
      "8800 0.6931471824645996\n",
      "8900 0.6931471824645996\n",
      "9000 0.6931471824645996\n",
      "9100 0.6931471824645996\n",
      "9200 0.6931471824645996\n",
      "9300 0.6931471824645996\n",
      "9400 0.6931471824645996\n",
      "9500 0.6931471824645996\n",
      "9600 0.6931471824645996\n",
      "9700 0.6931471824645996\n",
      "9800 0.6931471824645996\n",
      "9900 0.6931471824645996\n",
      "10000 0.6931471824645996\n"
     ]
    }
   ],
   "source": [
    "import torch\n",
    "import torch.nn as nn\n",
    "import torch.nn.functional as F\n",
    "import torch.optim as optim\n",
    "\n",
    "device = 'cuda' if torch.cuda.is_available() else 'cpu'\n",
    "if device == 'cuda':\n",
    "    torch.cuda.manual_seed_all(777)\n",
    "\n",
    "    \n",
    "X = torch.FloatTensor([[0,0],[0,1],[1,0],[1,1]]).to(device)\n",
    "Y = torch.FloatTensor([[0],[1],[1],[0]]).to(device)\n",
    "\n",
    "# single perceptron with a neuron.\n",
    "linear = nn.Linear(2,1, bias=True)\n",
    "sigmoid = nn.Sigmoid()\n",
    "model = nn.Sequential(linear, sigmoid).to(device)\n",
    "\n",
    "# costfunction and optimizer\n",
    "criterion = torch.nn.BCELoss().to(device)  # BCE = Binary Class Entropy (이진 분류에 쓰이는 엔트로피)\n",
    "optimizer = torch.optim.SGD(model.parameters(), lr=1)\n",
    "\n",
    "#10,001 epochs\n",
    "for step in range(10001):\n",
    "    optimizer.zero_grad()\n",
    "    hypothesis = model(X)\n",
    "    \n",
    "    #cost function\n",
    "    cost = criterion(hypothesis, Y)\n",
    "    cost.backward()\n",
    "    optimizer.step()\n",
    "    \n",
    "    if step % 100 == 0: #100번째 epoch마다 cost 출력\n",
    "        print(step, cost.item())\n"
   ]
  },
  {
   "cell_type": "markdown",
   "id": "gross-apartment",
   "metadata": {},
   "source": [
    "### 2. Check prediction"
   ]
  },
  {
   "cell_type": "code",
   "execution_count": 15,
   "id": "square-yellow",
   "metadata": {},
   "outputs": [
    {
     "name": "stdout",
     "output_type": "stream",
     "text": [
      "모델출력값:  [[0.5]\n",
      " [0.5]\n",
      " [0.5]\n",
      " [0.5]]\n",
      "모델예측값:  [[0.]\n",
      " [0.]\n",
      " [0.]\n",
      " [0.]]\n",
      "실제값:  [[0.]\n",
      " [1.]\n",
      " [1.]\n",
      " [0.]]\n",
      "정확도:  0.5\n"
     ]
    }
   ],
   "source": [
    "with torch.no_grad():\n",
    "    hypothesis = model(X)\n",
    "    predicted = (hypothesis > 0.5).float()\n",
    "    accuracy = (predicted == Y).float().mean()\n",
    "    print('모델출력값: ', hypothesis.detach().cpu().numpy())\n",
    "    print('모델예측값: ', predicted.detach().cpu().numpy())\n",
    "    print('실제값: ', Y.detach().cpu().numpy())\n",
    "    print('정확도: ', accuracy.detach().cpu().numpy())\n",
    "    \n",
    "    "
   ]
  },
  {
   "cell_type": "markdown",
   "id": "neural-class",
   "metadata": {},
   "source": [
    "## XOR problem - Multi layer perceptron\n"
   ]
  },
  {
   "cell_type": "code",
   "execution_count": 50,
   "id": "forward-voltage",
   "metadata": {},
   "outputs": [],
   "source": [
    "import torch\n",
    "import torch.nn as nn\n",
    "import torch.nn.functional as F\n",
    "import torch.optim as optim\n",
    "\n",
    "device = 'cuda' if torch.cuda.is_available() else 'cpu'\n",
    "if device=='cuda':\n",
    "    torch.cuda.manual_seed_all(777)\n",
    "\n",
    "X = torch.FloatTensor([[0,0],[0,1],[1,0],[1,1]]).to(device)\n",
    "Y = torch.FloatTensor([[0],[1],[1],[0]]).to(device)\n",
    "\n",
    "model = nn.Sequential(\n",
    "            nn.Linear(2,10, bias=True),\n",
    "            nn.Sigmoid(),\n",
    "            nn.Linear(10,10, bias=True),\n",
    "            nn.Sigmoid(),\n",
    "            nn.Linear(10,10, bias=True),\n",
    "            nn.Sigmoid(),\n",
    "            nn.Linear(10,1, bias=True),\n",
    "            nn.Sigmoid()\n",
    ").to(device)\n"
   ]
  },
  {
   "cell_type": "code",
   "execution_count": 51,
   "id": "african-drilling",
   "metadata": {
    "scrolled": true
   },
   "outputs": [
    {
     "name": "stdout",
     "output_type": "stream",
     "text": [
      "0 0.7095606327056885\n",
      "100 0.6931450366973877\n",
      "200 0.6931437849998474\n",
      "300 0.6931425333023071\n",
      "400 0.6931412816047668\n",
      "500 0.6931400299072266\n",
      "600 0.6931387186050415\n",
      "700 0.6931374073028564\n",
      "800 0.6931360960006714\n",
      "900 0.6931347250938416\n",
      "1000 0.6931332945823669\n",
      "1100 0.6931319236755371\n",
      "1200 0.6931304931640625\n",
      "1300 0.6931290626525879\n",
      "1400 0.6931275725364685\n",
      "1500 0.6931260824203491\n",
      "1600 0.6931245923042297\n",
      "1700 0.6931229829788208\n",
      "1800 0.6931213140487671\n",
      "1900 0.6931195855140686\n",
      "2000 0.6931178569793701\n",
      "2100 0.6931161284446716\n",
      "2200 0.6931142210960388\n",
      "2300 0.693112313747406\n",
      "2400 0.6931103467941284\n",
      "2500 0.693108320236206\n",
      "2600 0.6931061744689941\n",
      "2700 0.6931038498878479\n",
      "2800 0.6931015253067017\n",
      "2900 0.6930992007255554\n",
      "3000 0.6930966377258301\n",
      "3100 0.69309401512146\n",
      "3200 0.6930912137031555\n",
      "3300 0.6930882930755615\n",
      "3400 0.6930851936340332\n",
      "3500 0.6930820941925049\n",
      "3600 0.6930786371231079\n",
      "3700 0.6930750608444214\n",
      "3800 0.6930712461471558\n",
      "3900 0.6930673122406006\n",
      "4000 0.6930630207061768\n",
      "4100 0.6930584907531738\n",
      "4200 0.6930537223815918\n",
      "4300 0.6930484771728516\n",
      "4400 0.6930429935455322\n",
      "4500 0.6930371522903442\n",
      "4600 0.6930308938026428\n",
      "4700 0.6930240392684937\n",
      "4800 0.693016767501831\n",
      "4900 0.6930088400840759\n",
      "5000 0.693000316619873\n",
      "5100 0.6929910182952881\n",
      "5200 0.6929808855056763\n",
      "5300 0.6929698586463928\n",
      "5400 0.6929577589035034\n",
      "5500 0.6929444074630737\n",
      "5600 0.692929744720459\n",
      "5700 0.6929134130477905\n",
      "5800 0.6928954124450684\n",
      "5900 0.6928752660751343\n",
      "6000 0.6928524971008301\n",
      "6100 0.692827045917511\n",
      "6200 0.6927981376647949\n",
      "6300 0.6927650570869446\n",
      "6400 0.6927272081375122\n",
      "6500 0.6926833987236023\n",
      "6600 0.6926323175430298\n",
      "6700 0.6925721168518066\n",
      "6800 0.6925007700920105\n",
      "6900 0.6924149990081787\n",
      "7000 0.6923105716705322\n",
      "7100 0.6921816468238831\n",
      "7200 0.6920198202133179\n",
      "7300 0.6918126344680786\n",
      "7400 0.691541314125061\n",
      "7500 0.6911761164665222\n",
      "7600 0.6906682848930359\n",
      "7700 0.6899331212043762\n",
      "7800 0.6888141632080078\n",
      "7900 0.6869990825653076\n",
      "8000 0.6838053464889526\n",
      "8100 0.6775776147842407\n",
      "8200 0.6639736294746399\n",
      "8300 0.6329092979431152\n",
      "8400 0.5785868167877197\n",
      "8500 0.5208621621131897\n",
      "8600 0.3928997814655304\n",
      "8700 0.08463142812252045\n",
      "8800 0.02723478153347969\n",
      "8900 0.014161456376314163\n",
      "9000 0.009122522547841072\n",
      "9100 0.006579084787517786\n",
      "9200 0.005080556496977806\n",
      "9300 0.004105682484805584\n",
      "9400 0.003426555311307311\n",
      "9500 0.002929226029664278\n",
      "9600 0.0025508359540253878\n",
      "9700 0.0022541936486959457\n",
      "9800 0.002015931298956275\n",
      "9900 0.0018207947723567486\n",
      "10000 0.0016582502285018563\n"
     ]
    }
   ],
   "source": [
    "# cost function and optimizer\n",
    "criterion = nn.BCELoss().to(device)\n",
    "optimizer = torch.optim.SGD(model.parameters(), lr=0.4)\n",
    "\n",
    "for epoch in range(10001):\n",
    "    optimizer.zero_grad()\n",
    "    \n",
    "    #forward prop\n",
    "    hypothesis = model(X)\n",
    "    \n",
    "    # cost\n",
    "    cost = criterion(hypothesis, Y)\n",
    "    cost.backward()\n",
    "    optimizer.step()\n",
    "    \n",
    "    #print training process\n",
    "    if epoch % 100 == 0:\n",
    "        print(epoch, cost.item())\n",
    "    \n",
    "    "
   ]
  },
  {
   "cell_type": "code",
   "execution_count": 26,
   "id": "higher-central",
   "metadata": {},
   "outputs": [
    {
     "name": "stdout",
     "output_type": "stream",
     "text": [
      "모델의 출력값(Hypothesis):  [[5.2062715e-05]\n",
      " [9.9993372e-01]\n",
      " [9.9994230e-01]\n",
      " [9.5483265e-05]]\n",
      "모델의 예측값(Predicted):  [[0.]\n",
      " [1.]\n",
      " [1.]\n",
      " [0.]]\n",
      "실제값(Y):  [[0.]\n",
      " [1.]\n",
      " [1.]\n",
      " [0.]]\n",
      "정확도(Accuracy):  1.0\n"
     ]
    }
   ],
   "source": [
    "with torch.no_grad():\n",
    "    hypothesis = model(X)\n",
    "    predicted = (hypothesis > 0.5).float()\n",
    "    accuracy = (predicted == Y).float().mean()\n",
    "    print('모델의 출력값(Hypothesis): ', hypothesis.detach().cpu().numpy())\n",
    "    print('모델의 예측값(Predicted): ', predicted.detach().cpu().numpy())\n",
    "    print('실제값(Y): ', Y.cpu().numpy())\n",
    "    print('정확도(Accuracy): ', accuracy.item())"
   ]
  },
  {
   "cell_type": "markdown",
   "id": "plastic-contemporary",
   "metadata": {},
   "source": [
    "## Classification of Hand-written number by MLP\n",
    "\n",
    "Dataset : load_digit (1797 samples)  \n",
    "size : 8 * 8   \n",
    "label : 0 ~ 9  \n",
    "brightness : 0 ~ 15  \n"
   ]
  },
  {
   "cell_type": "code",
   "execution_count": 52,
   "id": "baking-routine",
   "metadata": {},
   "outputs": [
    {
     "name": "stdout",
     "output_type": "stream",
     "text": [
      "(1797, 8, 8)\n"
     ]
    },
    {
     "data": {
      "image/png": "[encoded data removed]",
      "text/plain": [
       "<Figure size 432x288 with 1 Axes>"
      ]
     },
     "metadata": {
      "needs_background": "light"
     },
     "output_type": "display_data"
    }
   ],
   "source": [
    "import torch\n",
    "import torch.nn as nn\n",
    "import torch.nn.functional as F\n",
    "import torch.optim as optim\n",
    "from matplotlib import pyplot as plt\n",
    "from sklearn.datasets import load_digits\n",
    "digits = load_digits()\n",
    "\n",
    "device = 'cuda' if torch.cuda.is_available() else 'cpu'\n",
    "if device == 'cuda':\n",
    "    torch.cuda.manual_seed_all(777)\n",
    "\n",
    "# size check\n",
    "print(digits.images.shape)\n",
    "\n",
    "# sample figure check\n",
    "plt.axis('off')\n",
    "plt.imshow(digits.images[0], cmap=plt.cm.gray_r, interpolation='nearest')\n",
    "\n",
    "X = torch.FloatTensor(digits.data).to(device)    #(1797,64)\n",
    "Y = torch.LongTensor(digits.target).to(device)  #(1797,1)"
   ]
  },
  {
   "cell_type": "code",
   "execution_count": 61,
   "id": "armed-pearl",
   "metadata": {},
   "outputs": [
    {
     "name": "stdout",
     "output_type": "stream",
     "text": [
      "0 2.969242572784424\n",
      "10 2.271925210952759\n",
      "20 2.1025967597961426\n",
      "30 1.8856620788574219\n",
      "40 1.6271921396255493\n",
      "50 1.3075491189956665\n",
      "60 0.9810643196105957\n",
      "70 0.7087021470069885\n",
      "80 0.5102044939994812\n",
      "90 0.37973830103874207\n"
     ]
    },
    {
     "data": {
      "text/plain": [
       "[<matplotlib.lines.Line2D at 0x25c284efd90>]"
      ]
     },
     "execution_count": 61,
     "metadata": {},
     "output_type": "execute_result"
    },
    {
     "data": {
      "image/png": "[encoded data removed]",
      "text/plain": [
       "<Figure size 432x288 with 1 Axes>"
      ]
     },
     "metadata": {
      "needs_background": "light"
     },
     "output_type": "display_data"
    }
   ],
   "source": [
    "model = nn.Sequential(\n",
    "        nn.Linear(64, 32),\n",
    "        nn.ReLU(),\n",
    "        nn.Linear(32,16),\n",
    "        nn.ReLU(),\n",
    "        nn.Linear(16,10),\n",
    "        ).to(device)\n",
    "\n",
    "criterion = nn.CrossEntropyLoss()\n",
    "optimizer = optim.Adam(model.parameters())\n",
    "losses = []\n",
    "\n",
    "for epoch in range(100):\n",
    "        \n",
    "    #hypothesis\n",
    "    hypothesis = model(X)\n",
    "    \n",
    "    #cost\n",
    "    optimizer.zero_grad()\n",
    "    cost = criterion(hypothesis, Y)\n",
    "    cost.backward()\n",
    "    optimizer.step()\n",
    "    \n",
    "    if epoch % 10 == 0:\n",
    "        print(epoch, cost.item())\n",
    "    \n",
    "    losses.append(cost.item())\n",
    "\n",
    "plt.plot(losses)"
   ]
  },
  {
   "cell_type": "markdown",
   "id": "arbitrary-bridges",
   "metadata": {},
   "source": [
    "## MNIST Classification by MLP"
   ]
  },
  {
   "cell_type": "code",
   "execution_count": 65,
   "id": "acting-notion",
   "metadata": {},
   "outputs": [],
   "source": [
    "import numpy as np\n",
    "import matplotlib.pyplot as plt\n",
    "from sklearn.datasets import fetch_openml\n",
    "mnist = fetch_openml('mnist_784', version=1, cache=True)\n"
   ]
  },
  {
   "cell_type": "code",
   "execution_count": 148,
   "id": "abstract-habitat",
   "metadata": {},
   "outputs": [
    {
     "data": {
      "image/png": "[encoded data removed]",
      "text/plain": [
       "<Figure size 432x288 with 1 Axes>"
      ]
     },
     "metadata": {
      "needs_background": "light"
     },
     "output_type": "display_data"
    }
   ],
   "source": [
    "import torch\n",
    "from torch.utils.data import TensorDataset, DataLoader\n",
    "from sklearn.model_selection import train_test_split\n",
    "\n",
    "# sample check\n",
    "plt.imshow(mnist.data.values[0].reshape(28,28), cmap='gray')\n",
    "\n",
    "#dataset \n",
    "X = mnist.data.values / 255  # 0~1 normalization\n",
    "mnist.target = mnist.target.astype(np.int8)  #convert type to extract only values\n",
    "Y = mnist.target.values\n",
    "\n",
    "#Training and test set \n",
    "X_train, X_test, Y_train, Y_test = train_test_split(X,Y,test_size=1/7, random_state=0)\n",
    "X_train = torch.Tensor(X_train).to(device)\n",
    "X_test = torch.Tensor(X_test).to(device)\n",
    "Y_train = torch.LongTensor(Y_train).to(device)\n",
    "Y_test = torch.LongTensor(Y_test).to(device)\n",
    "\n",
    "ds_train = TensorDataset(X_train, Y_train)\n",
    "ds_test = TensorDataset(X_test, Y_test)\n",
    "\n",
    "loader_train = DataLoader(ds_train, batch_size=64, shuffle=True)\n",
    "loader_test = DataLoader(ds_test, batch_size=64, shuffle=False)"
   ]
  },
  {
   "cell_type": "code",
   "execution_count": 179,
   "id": "illegal-minutes",
   "metadata": {},
   "outputs": [
    {
     "name": "stdout",
     "output_type": "stream",
     "text": [
      "epoch0: 완료\n",
      "\n",
      "epoch1: 완료\n",
      "\n",
      "epoch2: 완료\n",
      "\n",
      "epoch3: 완료\n",
      "\n",
      "epoch4: 완료\n",
      "\n",
      "epoch5: 완료\n",
      "\n",
      "epoch6: 완료\n",
      "\n",
      "epoch7: 완료\n",
      "\n",
      "epoch8: 완료\n",
      "\n",
      "epoch9: 완료\n",
      "\n",
      "epoch10: 완료\n",
      "\n",
      "epoch11: 완료\n",
      "\n",
      "epoch12: 완료\n",
      "\n",
      "epoch13: 완료\n",
      "\n",
      "epoch14: 완료\n",
      "\n",
      "epoch15: 완료\n",
      "\n",
      "epoch16: 완료\n",
      "\n",
      "epoch17: 완료\n",
      "\n",
      "epoch18: 완료\n",
      "\n",
      "epoch19: 완료\n",
      "\n",
      "\n",
      "테스트 데이터에서 예측 정확도: 9736/10000 (97%)\n",
      "\n"
     ]
    }
   ],
   "source": [
    "import torch\n",
    "import torch.nn as nn\n",
    "import torch.nn.functional as F\n",
    "import torch.optim as optim\n",
    "\n",
    "device = 'cuda' if torch.cuda.is_available() else 'cpu'\n",
    "if device == 'cuda':\n",
    "    torch.cuda.manual_seed_all(777)\n",
    "    \n",
    "\n",
    "# Model \n",
    "model = nn.Sequential(\n",
    "        nn.Linear(784,100),\n",
    "        nn.ReLU(),\n",
    "        nn.Linear(100,100),\n",
    "        nn.ReLU(),\n",
    "        nn.Linear(100,10),\n",
    "        ).to(device)\n",
    "\n",
    "#loss function\n",
    "loss_fn = nn.CrossEntropyLoss()\n",
    "\n",
    "#optimizer\n",
    "optimizer = optim.Adam(model.parameters())\n",
    "\n",
    "def train(epoch):\n",
    "    model.train() #신경망을 학습모드로 전환\n",
    "    \n",
    "    #데이터로더에서 미니배치를 하나씩 꺼내서 학습 수행\n",
    "    for data, targets in loader_train:\n",
    "        \n",
    "        optimizer.zero_grad() #경사를 0으로 초기화\n",
    "        outputs = model(data)   #데이터 입력 후 출력 계산\n",
    "        loss = loss_fn(outputs, targets) #출력과 훈련 데이터 정답 간의 오차 계산\n",
    "        loss.backward()\n",
    "        optimizer.step()\n",
    "        \n",
    "    print(\"epoch{}: 완료\\n\".format(epoch))\n",
    "    \n",
    "    \n",
    "def test():\n",
    "    model.eval() #신경망을 추론 모드로 전환\n",
    "    correct = 0\n",
    "    \n",
    "    #데이터로더에서 미니배치를 하나씩 꺼내 추론을 수행\n",
    "    with torch.no_grad():\n",
    "        for data, targets in loader_test:\n",
    "            \n",
    "            outputs = model(data) #데이터 입력 후 출력 계산\n",
    "            \n",
    "            #추론 계산\n",
    "            _, predicted = torch.max(outputs.data,1) #확률이 가장 높은 레이블이 무엇인지 계산\n",
    "            #여기서 첫번째 차원의 _, 는 첫번째 차원은 굳이 받지 않겠다는 의미. 2번째 차원인 predicted만 받아옴.\n",
    "            \n",
    "            correct += predicted.eq(targets.data.view_as(predicted)).sum() # 정답과 일치한 경우 카운트 증가\n",
    "    \n",
    "    #정확도 출력\n",
    "    data_num = len(loader_test.dataset) #데이터 총 건수\n",
    "    print('\\n테스트 데이터에서 예측 정확도: {}/{} ({:.0f}%)\\n'.format(correct, data_num, 100. * correct / data_num))\n",
    "\n",
    "for epoch in range(20):\n",
    "    train(epoch)\n",
    "test()\n"
   ]
  },
  {
   "cell_type": "code",
   "execution_count": 207,
   "id": "stock-frederick",
   "metadata": {},
   "outputs": [
    {
     "name": "stdout",
     "output_type": "stream",
     "text": [
      "Predict : 7\n",
      "Answer : 7\n"
     ]
    },
    {
     "data": {
      "text/plain": [
       "<matplotlib.image.AxesImage at 0x25c2beee670>"
      ]
     },
     "execution_count": 207,
     "metadata": {},
     "output_type": "execute_result"
    },
    {
     "data": {
      "image/png": "[encoded data removed]",
      "text/plain": [
       "<Figure size 432x288 with 1 Axes>"
      ]
     },
     "metadata": {
      "needs_background": "light"
     },
     "output_type": "display_data"
    }
   ],
   "source": [
    "# Test check\n",
    "\n",
    "index = 2023\n",
    "\n",
    "model.eval() #테스트모드로 전환\n",
    "data = X_test[index]\n",
    "output = model(data)\n",
    "\n",
    "_, predict = torch.max(output.data,0)\n",
    "\n",
    "print(\"Predict : {}\".format(predict))\n",
    "\n",
    "\n",
    "X_test_show = (X_test[index].cpu()).numpy()\n",
    "print(\"Answer : {}\".format(Y_test[index]))\n",
    "plt.imshow(X_test_show.reshape(-1,28), cmap='gray')\n"
   ]
  },
  {
   "cell_type": "code",
   "execution_count": null,
   "id": "wicked-enlargement",
   "metadata": {},
   "outputs": [],
   "source": []
  }
 ],
 "metadata": {
  "kernelspec": {
   "display_name": "CUDA",
   "language": "python",
   "name": "cuda"
  },
  "language_info": {
   "codemirror_mode": {
    "name": "ipython",
    "version": 3
   },
   "file_extension": ".py",
   "mimetype": "text/x-python",
   "name": "python",
   "nbconvert_exporter": "python",
   "pygments_lexer": "ipython3",
   "version": "3.9.2"
  }
 },
 "nbformat": 4,
 "nbformat_minor": 5
}
